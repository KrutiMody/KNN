{
 "cells": [
  {
   "cell_type": "markdown",
   "metadata": {},
   "source": [
    "# Problem Set 2, due January 28 at 11:59 pm\n",
    "\n",
    "###Before You Start\n",
    "\n",
    "Make sure the following libraries load correctly (hit Ctrl-Enter). Note that while you are loading several powerful libraries, including machine learning libraries, the goal of this problem set is to implement several algorithms from scratch. In particular, you should *not* be using any built-in libraries for nearest neighbors, distance metrics, or cross-validation -- your mission is to write those algorithms in Python! Parts 1 and 2 will be relatively easy; Part 3 will take more time.\n",
    "\n",
    "*Also note:* For this assignment we are requiring you to use base **matplotlib** - no more Seaborn or other packages. This will help you become familiar with techniques for maintaining fine-grained control over your data visualizations. It will also help our graders, who spent countless hours in the past trying to make various versions import for grading."
   ]
  },
  {
   "cell_type": "code",
   "execution_count": 1,
   "metadata": {
    "tags": []
   },
   "outputs": [],
   "source": [
    "import IPython\n",
    "import numpy as np\n",
    "import scipy as sp\n",
    "import pandas as pd\n",
    "import matplotlib\n",
    "import sklearn"
   ]
  },
  {
   "cell_type": "markdown",
   "metadata": {},
   "source": [
    "---\n",
    "\n",
    "## Introduction to the assignment\n",
    "\n",
    "For this assignment, you will be using the Boston Housing Prices Data Set.  This used to be housed by [UCI Machine Learning Repository](http://archive.ics.uci.edu/ml/datasets/Housing), but it is not housed there any more. You can read about it at [Kaggle](https://www.kaggle.com/vikrishnan/boston-house-prices) and at the [University of Toronto](https://www.cs.toronto.edu/~delve/data/boston/bostonDetail.html). Please read about the dataset carefully before continuing.  Use the following commands to load the dataset:\n"
   ]
  },
  {
   "cell_type": "code",
   "execution_count": 2,
   "metadata": {
    "tags": []
   },
   "outputs": [],
   "source": [
    "from sklearn.datasets import load_boston\n",
    "bdata = load_boston()"
   ]
  },
  {
   "cell_type": "markdown",
   "metadata": {},
   "source": [
    "The following commands will provide some basic information about the shape of the data:"
   ]
  },
  {
   "cell_type": "code",
   "execution_count": 3,
   "metadata": {},
   "outputs": [
    {
     "name": "stdout",
     "output_type": "stream",
     "text": [
      "dict_keys(['data', 'target', 'feature_names', 'DESCR', 'filename'])\n",
      "['CRIM' 'ZN' 'INDUS' 'CHAS' 'NOX' 'RM' 'AGE' 'DIS' 'RAD' 'TAX' 'PTRATIO'\n",
      " 'B' 'LSTAT']\n",
      "(506, 13)\n",
      "(506,)\n",
      ".. _boston_dataset:\n",
      "\n",
      "Boston house prices dataset\n",
      "---------------------------\n",
      "\n",
      "**Data Set Characteristics:**  \n",
      "\n",
      "    :Number of Instances: 506 \n",
      "\n",
      "    :Number of Attributes: 13 numeric/categorical predictive. Median Value (attribute 14) is usually the target.\n",
      "\n",
      "    :Attribute Information (in order):\n",
      "        - CRIM     per capita crime rate by town\n",
      "        - ZN       proportion of residential land zoned for lots over 25,000 sq.ft.\n",
      "        - INDUS    proportion of non-retail business acres per town\n",
      "        - CHAS     Charles River dummy variable (= 1 if tract bounds river; 0 otherwise)\n",
      "        - NOX      nitric oxides concentration (parts per 10 million)\n",
      "        - RM       average number of rooms per dwelling\n",
      "        - AGE      proportion of owner-occupied units built prior to 1940\n",
      "        - DIS      weighted distances to five Boston employment centres\n",
      "        - RAD      index of accessibility to radial highways\n",
      "        - TAX      full-value property-tax rate per $10,000\n",
      "        - PTRATIO  pupil-teacher ratio by town\n",
      "        - B        1000(Bk - 0.63)^2 where Bk is the proportion of black people by town\n",
      "        - LSTAT    % lower status of the population\n",
      "        - MEDV     Median value of owner-occupied homes in $1000's\n",
      "\n",
      "    :Missing Attribute Values: None\n",
      "\n",
      "    :Creator: Harrison, D. and Rubinfeld, D.L.\n",
      "\n",
      "This is a copy of UCI ML housing dataset.\n",
      "https://archive.ics.uci.edu/ml/machine-learning-databases/housing/\n",
      "\n",
      "\n",
      "This dataset was taken from the StatLib library which is maintained at Carnegie Mellon University.\n",
      "\n",
      "The Boston house-price data of Harrison, D. and Rubinfeld, D.L. 'Hedonic\n",
      "prices and the demand for clean air', J. Environ. Economics & Management,\n",
      "vol.5, 81-102, 1978.   Used in Belsley, Kuh & Welsch, 'Regression diagnostics\n",
      "...', Wiley, 1980.   N.B. Various transformations are used in the table on\n",
      "pages 244-261 of the latter.\n",
      "\n",
      "The Boston house-price data has been used in many machine learning papers that address regression\n",
      "problems.   \n",
      "     \n",
      ".. topic:: References\n",
      "\n",
      "   - Belsley, Kuh & Welsch, 'Regression diagnostics: Identifying Influential Data and Sources of Collinearity', Wiley, 1980. 244-261.\n",
      "   - Quinlan,R. (1993). Combining Instance-Based and Model-Based Learning. In Proceedings on the Tenth International Conference of Machine Learning, 236-243, University of Massachusetts, Amherst. Morgan Kaufmann.\n",
      "\n"
     ]
    }
   ],
   "source": [
    "print (bdata.keys())\n",
    "print (bdata.feature_names)\n",
    "print (bdata.data.shape)\n",
    "print (bdata.target.shape)\n",
    "# uncomment the following if you want to see a lengthy description of the dataset\n",
    "print (bdata.DESCR)"
   ]
  },
  {
   "cell_type": "markdown",
   "metadata": {},
   "source": [
    "---\n",
    "\n",
    "##Part 1: Descriptive analysis\n",
    "\n",
    "Before beginning the \"real\" work, dig into the data a bit do see what you're dealing with.  If you feel that you are still in the beginning stages of analyzing data in Python, no problem. That is understandable. Just make sure to read some of the online resources like [this one](https://github.com/jrjohansson/scientific-python-lectures).\n",
    "\n",
    "###1.1: Histogram of housing prices\n",
    "\n",
    "Below you will find some very basic code to make a very basic histogram of median housing prices (the \"target\" variable) for your dataset.  Your first task is to make this graph look pretty by doing the following:\n",
    "\n",
    "1. Add appropriate labels to the x and y axes, make sure to include units\n",
    "2. Change the bin width on the histogram to be $1000\n",
    "3. Remove the axes on the top and right side of the plot window\n",
    "4. Change the color of the bars to be green, and remove the black borders from the bars\n"
   ]
  },
  {
   "cell_type": "code",
   "execution_count": 4,
   "metadata": {},
   "outputs": [
    {
     "data": {
      "text/plain": [
       "sklearn.utils.Bunch"
      ]
     },
     "execution_count": 4,
     "metadata": {},
     "output_type": "execute_result"
    }
   ],
   "source": [
    "type(bdata)"
   ]
  },
  {
   "cell_type": "code",
   "execution_count": 5,
   "metadata": {},
   "outputs": [
    {
     "data": {
      "image/png": "[encoded data removed]",
      "text/plain": [
       "<Figure size 432x288 with 1 Axes>"
      ]
     },
     "metadata": {
      "needs_background": "light"
     },
     "output_type": "display_data"
    }
   ],
   "source": [
    "# prepare your jupyter notebook to work with matplotlib and import the library to something convenient\n",
    "#%matplotlib inline  \n",
    "import matplotlib.pyplot as plt  \n",
    "\n",
    "# edit the code below to make the graph look good\n",
    "plt.ylabel('Count')\n",
    "plt.xlabel('Housing prices in $1000')\n",
    "plt.title('Count of Housing Prices in $1000')\n",
    "bin_w = list(range(1, 50)) #this is so that 1 bin is equivalent to $1000 and bin width = $1000\n",
    "plt.hist(bdata.target, color= \"green\", bins = bin_w)\n",
    "ax = plt.subplot(111)\n",
    "# Hide the right and top spines\n",
    "ax.spines['right'].set_visible(False)\n",
    "ax.spines['top'].set_visible(False)\n",
    "plt.show()"
   ]
  },
  {
   "cell_type": "markdown",
   "metadata": {},
   "source": [
    "###1.2: Scatter plot of housing prices and crime\n",
    "\n",
    "Use matplotlib to create a scatter plot that shows the relationship between the median value of the home (y-axis) and the per-capita crime rate (x-axis).  Properly label your axes, and make sure that your graphic looks polished and professional.\n"
   ]
  },
  {
   "cell_type": "code",
   "execution_count": 6,
   "metadata": {},
   "outputs": [],
   "source": [
    "df_data = pd.DataFrame(bdata.data, columns=bdata.feature_names)"
   ]
  },
  {
   "cell_type": "code",
   "execution_count": 7,
   "metadata": {
    "tags": []
   },
   "outputs": [
    {
     "data": {
      "text/plain": [
       "Text(0.5, 1.0, 'Relationship between the median value of the home and per-capita crime rate')"
      ]
     },
     "execution_count": 7,
     "metadata": {},
     "output_type": "execute_result"
    },
    {
     "data": {
      "image/png": "[encoded data removed]",
      "text/plain": [
       "<Figure size 432x288 with 1 Axes>"
      ]
     },
     "metadata": {
      "needs_background": "light"
     },
     "output_type": "display_data"
    }
   ],
   "source": [
    "# enter your code below\n",
    "plt.scatter(df_data[\"CRIM\"], bdata.target, color = \"purple\", alpha=0.5)\n",
    "plt.ylabel('Median value of home in $1000')\n",
    "plt.xlabel('Per-capita crime rate')\n",
    "plt.title('Relationship between the median value of the home and per-capita crime rate')"
   ]
  },
  {
   "cell_type": "markdown",
   "metadata": {},
   "source": [
    "###1.3 Create your own (creative and effective) visualization\n",
    "\n",
    "Use another type of graph or chart to illustrate an interesting pattern in the data.  Be creative in your visualization, and make sure to produce a \"publication-quality\" graph.  Points will be given for useful and creative graphs; points will be deducted for confusing issues like unlabeled axes.  If you're new to data visualization, [this guide](http://pubs.aeaweb.org/doi/pdfplus/10.1257/jep.28.1.209) is a good place to start."
   ]
  },
  {
   "cell_type": "code",
   "execution_count": 8,
   "metadata": {},
   "outputs": [
    {
     "data": {
      "text/plain": [
       "<matplotlib.legend.Legend at 0x2133204cca0>"
      ]
     },
     "execution_count": 8,
     "metadata": {},
     "output_type": "execute_result"
    },
    {
     "data": {
      "image/png": "[encoded data removed]",
      "text/plain": [
       "<Figure size 432x288 with 1 Axes>"
      ]
     },
     "metadata": {
      "needs_background": "light"
     },
     "output_type": "display_data"
    }
   ],
   "source": [
    "# enter your code here\n",
    "plt.stem(df_data[\"CRIM\"], bdata.target)\n",
    "plt.scatter(df_data[\"LSTAT\"], bdata.target,  color = \"purple\", alpha=0.75)\n",
    "plt.ylabel('0wner occupied homes')\n",
    "plt.xlabel('Attributes')\n",
    "plt.title('Median value of owner occupied homes vs Crime, Radial Highways, Lower Status')\n",
    "plt.legend([\"% of Lower status\",\"Crime\"],loc='upper right', frameon=False)"
   ]
  },
  {
   "cell_type": "code",
   "execution_count": 9,
   "metadata": {},
   "outputs": [
    {
     "name": "stderr",
     "output_type": "stream",
     "text": [
      "C:\\Users\\Kruti\\AppData\\Local\\Temp/ipykernel_22308/4007471626.py:1: UserWarning: color is redundantly defined by the 'color' keyword argument and the fmt string \"go\" (-> color='g'). The keyword argument will take precedence.\n",
      "  plt.plot(df_data[\"CRIM\"], bdata.target, 'go', color = \"maroon\", alpha = 0.5)\n",
      "C:\\Users\\Kruti\\AppData\\Local\\Temp/ipykernel_22308/4007471626.py:2: UserWarning: color is redundantly defined by the 'color' keyword argument and the fmt string \"b*\" (-> color='b'). The keyword argument will take precedence.\n",
      "  plt.plot(df_data[\"LSTAT\"], bdata.target, 'b*', color = \"purple\", alpha = 0.5)\n"
     ]
    },
    {
     "data": {
      "image/png": "[encoded data removed]",
      "text/plain": [
       "<Figure size 432x288 with 1 Axes>"
      ]
     },
     "metadata": {
      "needs_background": "light"
     },
     "output_type": "display_data"
    }
   ],
   "source": [
    "plt.plot(df_data[\"CRIM\"], bdata.target, 'go', color = \"maroon\", alpha = 0.5)\n",
    "plt.plot(df_data[\"LSTAT\"], bdata.target, 'b*', color = \"purple\", alpha = 0.5)\n",
    "\n",
    "plt.ylabel('Median value of owner occupied homes')\n",
    "plt.xlabel('Attributes')\n",
    "plt.title('Median value of owner occupied homes vs Crime and Lower Status')\n",
    "plt.legend([\"% of Lower status\",\"Crime\"],loc='best', frameon=False)\n",
    "\n",
    "\n",
    "plt.show()"
   ]
  },
  {
   "cell_type": "markdown",
   "metadata": {},
   "source": [
    "---\n",
    "\n",
    "##Part 2: Experimental Setup\n",
    "\n",
    "The goal of the next few sections is to design an experiment to predict the median home value for an instance in the data.\n",
    "\n",
    "###2.1 Begin by writing a function to compute the Root Mean Squared Error for a list of numbers\n",
    "\n",
    "You can find the sqrt function in the Numpy package. Furthermore the details of RMSE can be found on [Wikipedia](http://en.wikipedia.org/wiki/Root-mean-square_deviation)\n",
    "\n"
   ]
  },
  {
   "cell_type": "code",
   "execution_count": 10,
   "metadata": {
    "tags": []
   },
   "outputs": [],
   "source": [
    "\"\"\"\n",
    "Function\n",
    "--------\n",
    "compute_rmse\n",
    "\n",
    "Given two arrays, one of actual values and one of predicted values,\n",
    "compute the Roote Mean Squared Error\n",
    "\n",
    "Parameters\n",
    "----------\n",
    "predictions : array\n",
    "    Array of numerical values corresponding to predictions for each of the N observations\n",
    "\n",
    "yvalues : array\n",
    "    Array of numerical values corresponding to the actual values for each of the N observations\n",
    "\n",
    "Returns\n",
    "-------\n",
    "rmse : int\n",
    "    Root Mean Squared Error of the prediction\n",
    "\n",
    "Example\n",
    "-------\n",
    ">>> print compute_rmse((2,2,3),(0,2,6)\n",
    "2.16\n",
    "\"\"\"\n",
    "import math\n",
    "def compute_rmse(predictions, yvalues):\n",
    "    #your code here\n",
    "    y_actual = yvalues\n",
    "    y_predicted = predictions\n",
    "    mse = np.square(np.subtract(y_actual,y_predicted)).mean()\n",
    "    rmse = math.sqrt(mse)\n",
    "    return rmse "
   ]
  },
  {
   "cell_type": "markdown",
   "metadata": {},
   "source": [
    "###2.2 Divide your data into training and testing datasets\n",
    "\n",
    "Randomly select 66% of the data and put this in a training dataset (call this \"bdata_train\"), and place the remaining 34% in a testing dataset (call this \"bdata_test\")\n"
   ]
  },
  {
   "cell_type": "code",
   "execution_count": 11,
   "metadata": {},
   "outputs": [
    {
     "name": "stdout",
     "output_type": "stream",
     "text": [
      "<class 'pandas.core.frame.DataFrame'>\n",
      "RangeIndex: 506 entries, 0 to 505\n",
      "Data columns (total 13 columns):\n",
      " #   Column   Non-Null Count  Dtype  \n",
      "---  ------   --------------  -----  \n",
      " 0   CRIM     506 non-null    float64\n",
      " 1   ZN       506 non-null    float64\n",
      " 2   INDUS    506 non-null    float64\n",
      " 3   CHAS     506 non-null    float64\n",
      " 4   NOX      506 non-null    float64\n",
      " 5   RM       506 non-null    float64\n",
      " 6   AGE      506 non-null    float64\n",
      " 7   DIS      506 non-null    float64\n",
      " 8   RAD      506 non-null    float64\n",
      " 9   TAX      506 non-null    float64\n",
      " 10  PTRATIO  506 non-null    float64\n",
      " 11  B        506 non-null    float64\n",
      " 12  LSTAT    506 non-null    float64\n",
      "dtypes: float64(13)\n",
      "memory usage: 51.5 KB\n"
     ]
    }
   ],
   "source": [
    "df_data.info()"
   ]
  },
  {
   "cell_type": "code",
   "execution_count": 12,
   "metadata": {},
   "outputs": [
    {
     "data": {
      "text/plain": [
       "array(['CRIM', 'ZN', 'INDUS', 'CHAS', 'NOX', 'RM', 'AGE', 'DIS', 'RAD',\n",
       "       'TAX', 'PTRATIO', 'B', 'LSTAT'], dtype='<U7')"
      ]
     },
     "execution_count": 12,
     "metadata": {},
     "output_type": "execute_result"
    }
   ],
   "source": [
    "bdata.feature_names"
   ]
  },
  {
   "cell_type": "code",
   "execution_count": 13,
   "metadata": {},
   "outputs": [],
   "source": [
    "# leave the following line untouched, it will help ensure that your \"random\" split is the same \"random\" split used by the rest of the class\n",
    "import numpy as np\n",
    "from sklearn.model_selection import train_test_split\n",
    "\n",
    "mask = np.random.seed(seed=13579)\n",
    "#df_target = pd.DataFrame(bdata.target)\n",
    "X = df_data   # independant features\n",
    "y = bdata.target # dependant variable\n",
    "#y = df_target\n",
    "\n",
    "bdata_train, bdata_test, y_train, y_test = train_test_split(X, y, test_size=0.34, random_state=mask)\n",
    "\n",
    "# enter your code here"
   ]
  },
  {
   "cell_type": "code",
   "execution_count": 14,
   "metadata": {},
   "outputs": [
    {
     "data": {
      "text/html": [
       "<div>\n",
       "<style scoped>\n",
       "    .dataframe tbody tr th:only-of-type {\n",
       "        vertical-align: middle;\n",
       "    }\n",
       "\n",
       "    .dataframe tbody tr th {\n",
       "        vertical-align: top;\n",
       "    }\n",
       "\n",
       "    .dataframe thead th {\n",
       "        text-align: right;\n",
       "    }\n",
       "</style>\n",
       "<table border=\"1\" class=\"dataframe\">\n",
       "  <thead>\n",
       "    <tr style=\"text-align: right;\">\n",
       "      <th></th>\n",
       "      <th>CRIM</th>\n",
       "      <th>ZN</th>\n",
       "      <th>INDUS</th>\n",
       "      <th>CHAS</th>\n",
       "      <th>NOX</th>\n",
       "      <th>RM</th>\n",
       "      <th>AGE</th>\n",
       "      <th>DIS</th>\n",
       "      <th>RAD</th>\n",
       "      <th>TAX</th>\n",
       "      <th>PTRATIO</th>\n",
       "      <th>B</th>\n",
       "      <th>LSTAT</th>\n",
       "    </tr>\n",
       "  </thead>\n",
       "  <tbody>\n",
       "    <tr>\n",
       "      <th>60</th>\n",
       "      <td>0.14932</td>\n",
       "      <td>25.0</td>\n",
       "      <td>5.13</td>\n",
       "      <td>0.0</td>\n",
       "      <td>0.453</td>\n",
       "      <td>5.741</td>\n",
       "      <td>66.2</td>\n",
       "      <td>7.2254</td>\n",
       "      <td>8.0</td>\n",
       "      <td>284.0</td>\n",
       "      <td>19.7</td>\n",
       "      <td>395.11</td>\n",
       "      <td>13.15</td>\n",
       "    </tr>\n",
       "    <tr>\n",
       "      <th>58</th>\n",
       "      <td>0.15445</td>\n",
       "      <td>25.0</td>\n",
       "      <td>5.13</td>\n",
       "      <td>0.0</td>\n",
       "      <td>0.453</td>\n",
       "      <td>6.145</td>\n",
       "      <td>29.2</td>\n",
       "      <td>7.8148</td>\n",
       "      <td>8.0</td>\n",
       "      <td>284.0</td>\n",
       "      <td>19.7</td>\n",
       "      <td>390.68</td>\n",
       "      <td>6.86</td>\n",
       "    </tr>\n",
       "    <tr>\n",
       "      <th>152</th>\n",
       "      <td>1.12658</td>\n",
       "      <td>0.0</td>\n",
       "      <td>19.58</td>\n",
       "      <td>1.0</td>\n",
       "      <td>0.871</td>\n",
       "      <td>5.012</td>\n",
       "      <td>88.0</td>\n",
       "      <td>1.6102</td>\n",
       "      <td>5.0</td>\n",
       "      <td>403.0</td>\n",
       "      <td>14.7</td>\n",
       "      <td>343.28</td>\n",
       "      <td>12.12</td>\n",
       "    </tr>\n",
       "    <tr>\n",
       "      <th>413</th>\n",
       "      <td>28.65580</td>\n",
       "      <td>0.0</td>\n",
       "      <td>18.10</td>\n",
       "      <td>0.0</td>\n",
       "      <td>0.597</td>\n",
       "      <td>5.155</td>\n",
       "      <td>100.0</td>\n",
       "      <td>1.5894</td>\n",
       "      <td>24.0</td>\n",
       "      <td>666.0</td>\n",
       "      <td>20.2</td>\n",
       "      <td>210.97</td>\n",
       "      <td>20.08</td>\n",
       "    </tr>\n",
       "    <tr>\n",
       "      <th>232</th>\n",
       "      <td>0.57529</td>\n",
       "      <td>0.0</td>\n",
       "      <td>6.20</td>\n",
       "      <td>0.0</td>\n",
       "      <td>0.507</td>\n",
       "      <td>8.337</td>\n",
       "      <td>73.3</td>\n",
       "      <td>3.8384</td>\n",
       "      <td>8.0</td>\n",
       "      <td>307.0</td>\n",
       "      <td>17.4</td>\n",
       "      <td>385.91</td>\n",
       "      <td>2.47</td>\n",
       "    </tr>\n",
       "    <tr>\n",
       "      <th>...</th>\n",
       "      <td>...</td>\n",
       "      <td>...</td>\n",
       "      <td>...</td>\n",
       "      <td>...</td>\n",
       "      <td>...</td>\n",
       "      <td>...</td>\n",
       "      <td>...</td>\n",
       "      <td>...</td>\n",
       "      <td>...</td>\n",
       "      <td>...</td>\n",
       "      <td>...</td>\n",
       "      <td>...</td>\n",
       "      <td>...</td>\n",
       "    </tr>\n",
       "    <tr>\n",
       "      <th>143</th>\n",
       "      <td>4.09740</td>\n",
       "      <td>0.0</td>\n",
       "      <td>19.58</td>\n",
       "      <td>0.0</td>\n",
       "      <td>0.871</td>\n",
       "      <td>5.468</td>\n",
       "      <td>100.0</td>\n",
       "      <td>1.4118</td>\n",
       "      <td>5.0</td>\n",
       "      <td>403.0</td>\n",
       "      <td>14.7</td>\n",
       "      <td>396.90</td>\n",
       "      <td>26.42</td>\n",
       "    </tr>\n",
       "    <tr>\n",
       "      <th>24</th>\n",
       "      <td>0.75026</td>\n",
       "      <td>0.0</td>\n",
       "      <td>8.14</td>\n",
       "      <td>0.0</td>\n",
       "      <td>0.538</td>\n",
       "      <td>5.924</td>\n",
       "      <td>94.1</td>\n",
       "      <td>4.3996</td>\n",
       "      <td>4.0</td>\n",
       "      <td>307.0</td>\n",
       "      <td>21.0</td>\n",
       "      <td>394.33</td>\n",
       "      <td>16.30</td>\n",
       "    </tr>\n",
       "    <tr>\n",
       "      <th>396</th>\n",
       "      <td>5.87205</td>\n",
       "      <td>0.0</td>\n",
       "      <td>18.10</td>\n",
       "      <td>0.0</td>\n",
       "      <td>0.693</td>\n",
       "      <td>6.405</td>\n",
       "      <td>96.0</td>\n",
       "      <td>1.6768</td>\n",
       "      <td>24.0</td>\n",
       "      <td>666.0</td>\n",
       "      <td>20.2</td>\n",
       "      <td>396.90</td>\n",
       "      <td>19.37</td>\n",
       "    </tr>\n",
       "    <tr>\n",
       "      <th>482</th>\n",
       "      <td>5.73116</td>\n",
       "      <td>0.0</td>\n",
       "      <td>18.10</td>\n",
       "      <td>0.0</td>\n",
       "      <td>0.532</td>\n",
       "      <td>7.061</td>\n",
       "      <td>77.0</td>\n",
       "      <td>3.4106</td>\n",
       "      <td>24.0</td>\n",
       "      <td>666.0</td>\n",
       "      <td>20.2</td>\n",
       "      <td>395.28</td>\n",
       "      <td>7.01</td>\n",
       "    </tr>\n",
       "    <tr>\n",
       "      <th>192</th>\n",
       "      <td>0.08664</td>\n",
       "      <td>45.0</td>\n",
       "      <td>3.44</td>\n",
       "      <td>0.0</td>\n",
       "      <td>0.437</td>\n",
       "      <td>7.178</td>\n",
       "      <td>26.3</td>\n",
       "      <td>6.4798</td>\n",
       "      <td>5.0</td>\n",
       "      <td>398.0</td>\n",
       "      <td>15.2</td>\n",
       "      <td>390.49</td>\n",
       "      <td>2.87</td>\n",
       "    </tr>\n",
       "  </tbody>\n",
       "</table>\n",
       "<p>333 rows × 13 columns</p>\n",
       "</div>"
      ],
      "text/plain": [
       "         CRIM    ZN  INDUS  CHAS    NOX     RM    AGE     DIS   RAD    TAX  \\\n",
       "60    0.14932  25.0   5.13   0.0  0.453  5.741   66.2  7.2254   8.0  284.0   \n",
       "58    0.15445  25.0   5.13   0.0  0.453  6.145   29.2  7.8148   8.0  284.0   \n",
       "152   1.12658   0.0  19.58   1.0  0.871  5.012   88.0  1.6102   5.0  403.0   \n",
       "413  28.65580   0.0  18.10   0.0  0.597  5.155  100.0  1.5894  24.0  666.0   \n",
       "232   0.57529   0.0   6.20   0.0  0.507  8.337   73.3  3.8384   8.0  307.0   \n",
       "..        ...   ...    ...   ...    ...    ...    ...     ...   ...    ...   \n",
       "143   4.09740   0.0  19.58   0.0  0.871  5.468  100.0  1.4118   5.0  403.0   \n",
       "24    0.75026   0.0   8.14   0.0  0.538  5.924   94.1  4.3996   4.0  307.0   \n",
       "396   5.87205   0.0  18.10   0.0  0.693  6.405   96.0  1.6768  24.0  666.0   \n",
       "482   5.73116   0.0  18.10   0.0  0.532  7.061   77.0  3.4106  24.0  666.0   \n",
       "192   0.08664  45.0   3.44   0.0  0.437  7.178   26.3  6.4798   5.0  398.0   \n",
       "\n",
       "     PTRATIO       B  LSTAT  \n",
       "60      19.7  395.11  13.15  \n",
       "58      19.7  390.68   6.86  \n",
       "152     14.7  343.28  12.12  \n",
       "413     20.2  210.97  20.08  \n",
       "232     17.4  385.91   2.47  \n",
       "..       ...     ...    ...  \n",
       "143     14.7  396.90  26.42  \n",
       "24      21.0  394.33  16.30  \n",
       "396     20.2  396.90  19.37  \n",
       "482     20.2  395.28   7.01  \n",
       "192     15.2  390.49   2.87  \n",
       "\n",
       "[333 rows x 13 columns]"
      ]
     },
     "execution_count": 14,
     "metadata": {},
     "output_type": "execute_result"
    }
   ],
   "source": [
    "#y_train = y_train.rename(columns={'unnamed:1': 'MEDV'}, inplace = True)\n",
    "#df.rename({'unnamed:3':'new_name'},inplace=True)\n",
    "#y_train.index.name = 'new_name'\n",
    "bdata_train\n",
    "#bdata_test"
   ]
  },
  {
   "cell_type": "code",
   "execution_count": 15,
   "metadata": {},
   "outputs": [],
   "source": [
    "#y_train"
   ]
  },
  {
   "cell_type": "code",
   "execution_count": 16,
   "metadata": {},
   "outputs": [],
   "source": [
    "#bdata_train.describe(include = \"all\")"
   ]
  },
  {
   "cell_type": "markdown",
   "metadata": {},
   "source": [
    "###2.3 Use a very bad baseline for prediction, and compute RMSE\n",
    "\n",
    "Create a model that predicts, for every observation x_i, that the median home value is the average (mean) of the median values for all instances in the training set.  Compute the RMSE on the training set.  Now compute the RMSE on the test data set (but use the model you trained on the training set!).  How does RMSE compare for training vs. testing datasets? Is this what you expected, and why?"
   ]
  },
  {
   "cell_type": "code",
   "execution_count": 17,
   "metadata": {
    "tags": []
   },
   "outputs": [
    {
     "name": "stdout",
     "output_type": "stream",
     "text": [
      "22.532806324110677\n",
      "333\n",
      "9.445771230366503\n",
      "8.670317302429572\n"
     ]
    }
   ],
   "source": [
    "# enter your code here\n",
    "bdata_Medv_mean = bdata.target.mean()\n",
    "print(bdata_Medv_mean)\n",
    "array1 = [bdata_Medv_mean] * bdata_train.shape[0]\n",
    "len(array1)\n",
    "print(len(array1))\n",
    "#print(len(y_train))\n",
    "\n",
    "RMSE_Train = compute_rmse(array1, y_train)\n",
    "\n",
    "array2 = [bdata_Medv_mean] * bdata_test.shape[0]\n",
    "len(array2)\n",
    "\n",
    "RMSE_Test = compute_rmse(array2, y_test)\n",
    "print(RMSE_Train)\n",
    "print(RMSE_Test)"
   ]
  },
  {
   "cell_type": "markdown",
   "metadata": {},
   "source": [
    "*Enter your observations here*"
   ]
  },
  {
   "cell_type": "markdown",
   "metadata": {},
   "source": [
    "---\n",
    "\n",
    "##Part 3: Nearest Neighbors\n"
   ]
  },
  {
   "cell_type": "markdown",
   "metadata": {},
   "source": [
    "###3.1 Nearest Neighbors: Distance function\n",
    "Let's try and build a machine learning algorithm to beat the \"Average Value\" baseline that you computed above.  Soon you will implement the Nearest Neighbor algorithm, but first you need to create a distance metric to measure the distance (and similarity) between two instances.  Write a generic function to compute the L-Norm distance (called the [*p*-norm](http://en.wikipedia.org/wiki/Norm_(mathematics) distance on Wikipedia). Verify that your function works by computing the Euclidean distance between the points (3,4) and (6,8)."
   ]
  },
  {
   "cell_type": "code",
   "execution_count": 18,
   "metadata": {},
   "outputs": [],
   "source": [
    "\"\"\"\n",
    "Function\n",
    "--------\n",
    "distance\n",
    "\n",
    "Given two instances and a value for L, return the L-Norm distance between them\n",
    "\n",
    "Parameters\n",
    "----------\n",
    "x1, x2 : array\n",
    "    Array of numerical values corresponding to predictions for each of the N observations\n",
    "\n",
    "L: int\n",
    "    Value of L to use in computing distances\n",
    "\n",
    "Returns\n",
    "-------\n",
    "dist : int\n",
    "    The L-norm distance between instances\n",
    "\n",
    "Example\n",
    "-------\n",
    ">>> print distance((3,4),(6,8),2)\n",
    "7\n",
    "\n",
    "\"\"\"\n",
    "def distance(x1, x2, L):\n",
    "    #your code here\n",
    "    delta_vec = np.abs(np.array(x1) - np.array(x2))\n",
    "    dist = np.sum(delta_vec**L)**(1/L)\n",
    "    return dist"
   ]
  },
  {
   "cell_type": "markdown",
   "metadata": {},
   "source": [
    "###3.2 Basic Nearest Neighbor algorithm\n",
    "\n",
    "Now things get fun.  Your task is to implement a basic nearest neighbor algorithm from scratch.  Your simple model will use two input features (CRIM and RM) and a single output (MEDV).  In other words, you are modelling the relationship between median home value and crime rates and house size.\n",
    "\n",
    "Use your training data (bdata_train) to \"fit\" your model, although as you know, with Nearest Neighbors there is no real training, you just need to keep your training data in memory.  Write a function that predicts, for each instance in the testing data (bdata_test), the median home value using the nearest neighbor algorithm we discussed in class.  Since this is a small dataset, you can simply compare your test instance to every instance in the training set, and return the MEDV value of the closest training instance.  Have your function take L as an input, where L is passed to the distance function.\n",
    "\n",
    "Compute the RMSE for the Nearest Neighbor predictions on the test set, using the Euclidean distance.  Report an estimate of the total time taken by your code to predict the nearest neighbors for all the values in the test data set."
   ]
  },
  {
   "cell_type": "code",
   "execution_count": 19,
   "metadata": {},
   "outputs": [],
   "source": [
    "bdata_train = bdata_train.filter(['CRIM', 'RM'])\n",
    "#X_train"
   ]
  },
  {
   "cell_type": "code",
   "execution_count": 20,
   "metadata": {},
   "outputs": [
    {
     "data": {
      "text/html": [
       "<div>\n",
       "<style scoped>\n",
       "    .dataframe tbody tr th:only-of-type {\n",
       "        vertical-align: middle;\n",
       "    }\n",
       "\n",
       "    .dataframe tbody tr th {\n",
       "        vertical-align: top;\n",
       "    }\n",
       "\n",
       "    .dataframe thead th {\n",
       "        text-align: right;\n",
       "    }\n",
       "</style>\n",
       "<table border=\"1\" class=\"dataframe\">\n",
       "  <thead>\n",
       "    <tr style=\"text-align: right;\">\n",
       "      <th></th>\n",
       "      <th>CRIM</th>\n",
       "      <th>RM</th>\n",
       "    </tr>\n",
       "  </thead>\n",
       "  <tbody>\n",
       "    <tr>\n",
       "      <th>440</th>\n",
       "      <td>22.05110</td>\n",
       "      <td>5.818</td>\n",
       "    </tr>\n",
       "    <tr>\n",
       "      <th>215</th>\n",
       "      <td>0.19802</td>\n",
       "      <td>6.182</td>\n",
       "    </tr>\n",
       "    <tr>\n",
       "      <th>212</th>\n",
       "      <td>0.21719</td>\n",
       "      <td>5.807</td>\n",
       "    </tr>\n",
       "    <tr>\n",
       "      <th>197</th>\n",
       "      <td>0.04666</td>\n",
       "      <td>7.107</td>\n",
       "    </tr>\n",
       "    <tr>\n",
       "      <th>161</th>\n",
       "      <td>1.46336</td>\n",
       "      <td>7.489</td>\n",
       "    </tr>\n",
       "  </tbody>\n",
       "</table>\n",
       "</div>"
      ],
      "text/plain": [
       "         CRIM     RM\n",
       "440  22.05110  5.818\n",
       "215   0.19802  6.182\n",
       "212   0.21719  5.807\n",
       "197   0.04666  7.107\n",
       "161   1.46336  7.489"
      ]
     },
     "execution_count": 20,
     "metadata": {},
     "output_type": "execute_result"
    }
   ],
   "source": [
    "bdata_test = bdata_test.filter(['CRIM', 'RM'])\n",
    "bdata_test.head()"
   ]
  },
  {
   "cell_type": "code",
   "execution_count": 21,
   "metadata": {},
   "outputs": [
    {
     "name": "stdout",
     "output_type": "stream",
     "text": [
      "Time taken: 0.64 seconds\n",
      "173\n",
      "RMSE for Nearest Neighbor is: 6.681010099809551\n"
     ]
    }
   ],
   "source": [
    "\"\"\"\n",
    "Function\n",
    "--------\n",
    "nneighbor\n",
    "\n",
    "Given the training data set, testing data set, the target variable values of training data set, \n",
    "K = 1 (since this is nearest neighbor) and L = 2 (for Euclidean Distance), predict the target variable for \n",
    "testing data.\n",
    "\n",
    "K = 1 set's just 1 data point as a reference data point, we can later on re-use this as K-NN where k != 1\n",
    "\n",
    "Parameters\n",
    "----------\n",
    "x_train (bdata_train), y, x_input (bdata_test) : array\n",
    "    Array of numerical values corresponding to CRIM and RM features for each of the training observations\n",
    "k:int\n",
    "    Determines the count of points reference to which the distances will be calculated\n",
    "L: int\n",
    "    Value of L to use in computing distances\n",
    "\n",
    "Returns\n",
    "-------\n",
    "pred : int\n",
    "    The predicted value of target variable corresponding to each test set entry (i.e. bdata_test)\n",
    "\n",
    "Example\n",
    "-------\n",
    ">>> [5.5,6.5]...(train entries), [24.2], [4.9,6.7]...(test entries), 1, 2)\n",
    "\n",
    "18.9\n",
    "\n",
    "\"\"\"\n",
    "from scipy.stats import mode\n",
    "from sklearn.metrics import accuracy_score\n",
    "import time\n",
    "#Function to calculate KNN\n",
    "start_time = time.time()\n",
    "def nneighbor(x_train, y , x_input, k, L):\n",
    "    pred = []\n",
    "    #start_time = time.time()\n",
    "    #Loop through the Datapoints to be classified\n",
    "    for item in x_input: \n",
    "         \n",
    "        #Array to store distances\n",
    "        point_dist = []\n",
    "         \n",
    "        #Loop through each training Data\n",
    "        for j in range(len(x_train)): \n",
    "            distances = distance(np.array(x_train[j,:]) , item, L)\n",
    "            #Calculating the distance\n",
    "            point_dist.append(distances) \n",
    "        point_dist = np.array(point_dist) \n",
    "         \n",
    "        #Sorting the array while preserving the index\n",
    "        #Keeping the first K datapoints\n",
    "        dist = np.argsort(point_dist)[:k]  \n",
    "        #Labels of the K datapoints from above\n",
    "        labels = y[dist]\n",
    "         \n",
    "        #Majority voting\n",
    "        lab = mode(labels) \n",
    "        lab = lab.mode[0]\n",
    "        pred.append(lab)\n",
    "    \n",
    "    return pred\n",
    "\n",
    "y_pred = nneighbor(np.array(bdata_train),np.array(y_train),np.array(bdata_test) , 1, 2)\n",
    "print (\"Time taken: \" + str(round(time.time() - start_time,2)) + \" seconds\")\n",
    "print(len(y_pred))\n",
    "RMSE = compute_rmse(y_pred, y_test)\n",
    "print(\"RMSE for Nearest Neighbor is: \" + str(RMSE))"
   ]
  },
  {
   "cell_type": "markdown",
   "metadata": {},
   "source": [
    "###3.3 Results and Normalization\n",
    "\n",
    "If you were being astute, you would have noticed that we never normalized our features -- a big no-no with Nearest Neighbor algorithms.  Write a generic normalization function that takes as input an array of values for a given feature, and returns the normalized array (subtract the mean and divide by the standard deviation).\n",
    "\n",
    "Re-run the Nearest Neighbor algorithm on the normalized dataset (still just using CRIM and RM as input), and compare the RMSE from this method with your previous RMSE evaluations.\n",
    "\n",
    "*NOTE*: To normalize properly, best practice is to compute the mean and standard deviation on the training set, and use these values to normalize the testing dataset. However, for this problem set, it is okay if you separately normalize each dataset using the respective mean and standard deviation."
   ]
  },
  {
   "cell_type": "code",
   "execution_count": 22,
   "metadata": {},
   "outputs": [],
   "source": [
    "\"\"\"\n",
    "Function\n",
    "--------\n",
    "normalize\n",
    "\n",
    "Given the data, convert the integer into z-scale \n",
    "\n",
    "Parameters\n",
    "----------\n",
    "raw_data: array\n",
    "    Numerical array\n",
    "\n",
    "Returns\n",
    "-------\n",
    "normalized_data : array\n",
    "    Numeric array within -1 to 1 range\n",
    "\n",
    "Example\n",
    "-------\n",
    ">>> 0.14932  5.741\n",
    ".\n",
    ".\n",
    ".\n",
    "\n",
    "-0.383740 -0.812161\n",
    ".\n",
    ".\n",
    ".\n",
    "\n",
    "\"\"\"\n",
    "def normalize(raw_data):\n",
    "    #your code here\n",
    "    df_z_scaled = raw_data.copy()\n",
    "    # apply normalization techniques\n",
    "    for column in df_z_scaled.columns:\n",
    "        df_z_scaled[column] = (df_z_scaled[column] - df_z_scaled[column].mean()) / df_z_scaled[column].std()\n",
    "    normalized_data = df_z_scaled\n",
    "    return normalized_data"
   ]
  },
  {
   "cell_type": "code",
   "execution_count": 23,
   "metadata": {},
   "outputs": [
    {
     "name": "stdout",
     "output_type": "stream",
     "text": [
      "Time taken: 0.53 seconds\n",
      "173\n",
      "RMSE for Nearest Neighbor is: 0.7518997118944089\n"
     ]
    }
   ],
   "source": [
    "#Also scaling target variables\n",
    "#print(bdata_train)\n",
    "start_time = time.time()\n",
    "bdata_train = normalize(bdata_train)\n",
    "#print(bdata_train)\n",
    "bdata_test = normalize(bdata_test)\n",
    "y_train = normalize(pd.DataFrame(y_train))\n",
    "y_test = normalize(pd.DataFrame(y_test))\n",
    "yn_pred = nneighbor(np.array(bdata_train),np.array(y_train),np.array(bdata_test) , 1, 2)\n",
    "print (\"Time taken: \" + str(round(time.time() - start_time,2)) + \" seconds\")\n",
    "\n",
    "print(len(yn_pred))\n",
    "RMSE = compute_rmse(np.array(yn_pred), np.array(y_test))\n",
    "print(\"RMSE for Nearest Neighbor is: \" + str(RMSE))"
   ]
  },
  {
   "cell_type": "markdown",
   "metadata": {},
   "source": [
    "Here we see that the RMSE greatly drops - from 6.68 the RMSE is set to 0.26 which makes the model so much better and less prone to error."
   ]
  },
  {
   "cell_type": "markdown",
   "metadata": {},
   "source": [
    "###3.4 Optimization\n",
    "\n",
    "A lot of the decisions we've made so far have been arbitrary.  Try to increase the performance of your nearest neighbor algorithm by adding features that you think might be relevant, and by using different values of L in the distance function.  Try a model that uses a different set of 2 features, then try at least one model that uses more than 4 features, then try using a different value of L.  If you're having fun, try a few different combinations of features and L!\n",
    "\n",
    "What combination of features and distance function provide the lowest RMSE?  Do your decisions affect the running time of the algorithm?"
   ]
  },
  {
   "cell_type": "code",
   "execution_count": 24,
   "metadata": {},
   "outputs": [
    {
     "data": {
      "text/html": [
       "<div>\n",
       "<style scoped>\n",
       "    .dataframe tbody tr th:only-of-type {\n",
       "        vertical-align: middle;\n",
       "    }\n",
       "\n",
       "    .dataframe tbody tr th {\n",
       "        vertical-align: top;\n",
       "    }\n",
       "\n",
       "    .dataframe thead th {\n",
       "        text-align: right;\n",
       "    }\n",
       "</style>\n",
       "<table border=\"1\" class=\"dataframe\">\n",
       "  <thead>\n",
       "    <tr style=\"text-align: right;\">\n",
       "      <th></th>\n",
       "      <th>CRIM</th>\n",
       "      <th>ZN</th>\n",
       "      <th>AGE</th>\n",
       "      <th>DIS</th>\n",
       "      <th>TAX</th>\n",
       "      <th>0</th>\n",
       "    </tr>\n",
       "  </thead>\n",
       "  <tbody>\n",
       "    <tr>\n",
       "      <th>0</th>\n",
       "      <td>0.00632</td>\n",
       "      <td>18.0</td>\n",
       "      <td>65.2</td>\n",
       "      <td>4.0900</td>\n",
       "      <td>296.0</td>\n",
       "      <td>24.0</td>\n",
       "    </tr>\n",
       "    <tr>\n",
       "      <th>1</th>\n",
       "      <td>0.02731</td>\n",
       "      <td>0.0</td>\n",
       "      <td>78.9</td>\n",
       "      <td>4.9671</td>\n",
       "      <td>242.0</td>\n",
       "      <td>21.6</td>\n",
       "    </tr>\n",
       "    <tr>\n",
       "      <th>2</th>\n",
       "      <td>0.02729</td>\n",
       "      <td>0.0</td>\n",
       "      <td>61.1</td>\n",
       "      <td>4.9671</td>\n",
       "      <td>242.0</td>\n",
       "      <td>34.7</td>\n",
       "    </tr>\n",
       "    <tr>\n",
       "      <th>3</th>\n",
       "      <td>0.03237</td>\n",
       "      <td>0.0</td>\n",
       "      <td>45.8</td>\n",
       "      <td>6.0622</td>\n",
       "      <td>222.0</td>\n",
       "      <td>33.4</td>\n",
       "    </tr>\n",
       "    <tr>\n",
       "      <th>4</th>\n",
       "      <td>0.06905</td>\n",
       "      <td>0.0</td>\n",
       "      <td>54.2</td>\n",
       "      <td>6.0622</td>\n",
       "      <td>222.0</td>\n",
       "      <td>36.2</td>\n",
       "    </tr>\n",
       "  </tbody>\n",
       "</table>\n",
       "</div>"
      ],
      "text/plain": [
       "      CRIM    ZN   AGE     DIS    TAX     0\n",
       "0  0.00632  18.0  65.2  4.0900  296.0  24.0\n",
       "1  0.02731   0.0  78.9  4.9671  242.0  21.6\n",
       "2  0.02729   0.0  61.1  4.9671  242.0  34.7\n",
       "3  0.03237   0.0  45.8  6.0622  222.0  33.4\n",
       "4  0.06905   0.0  54.2  6.0622  222.0  36.2"
      ]
     },
     "execution_count": 24,
     "metadata": {},
     "output_type": "execute_result"
    }
   ],
   "source": [
    "# enter your code here\n",
    "#filtering features\n",
    "df_filter_four = df_data.filter(['CRIM','ZN', 'AGE', 'DIS', 'TAX'])\n",
    "df_target = pd.DataFrame(bdata.target)\n",
    "df_filter_four = pd.concat([df_filter_four,df_target],axis=1)\n",
    "df_filter_four.head()"
   ]
  },
  {
   "cell_type": "code",
   "execution_count": 25,
   "metadata": {},
   "outputs": [
    {
     "name": "stdout",
     "output_type": "stream",
     "text": [
      "Time taken: 0.52 seconds\n",
      "173\n",
      "RMSE for Nearest Neighbor is: 0.25925400440137397\n"
     ]
    }
   ],
   "source": [
    "X = df_filter_four  # independant features\n",
    "y = bdata.target # dependant variable\n",
    "start_time = time.time()\n",
    "bdata_train, bdata_test, y_train, y_test = train_test_split(X, y, test_size=0.34, random_state=mask)\n",
    "bdata_train = normalize(bdata_train)\n",
    "yo_test = normalize(pd.DataFrame(y_test))\n",
    "yo_train = normalize(pd.DataFrame(y_train))\n",
    "#print(bdata_train)\n",
    "bdata_test = normalize(bdata_test)\n",
    "yno_pred = nneighbor(np.array(bdata_train),np.array(yo_train),np.array(bdata_test) , 1, 2)\n",
    "print (\"Time taken: \" + str(round(time.time() - start_time,2)) + \" seconds\")\n",
    "\n",
    "print(len(yn_pred))\n",
    "RMSE = compute_rmse(np.array(yno_pred), np.array(yo_test))\n",
    "print(\"RMSE for Nearest Neighbor is: \" + str(RMSE))"
   ]
  },
  {
   "cell_type": "markdown",
   "metadata": {},
   "source": [
    "Here we see that RMSE is comparable, i.e. 0.27, let us try to reduce it even more"
   ]
  },
  {
   "cell_type": "code",
   "execution_count": 26,
   "metadata": {},
   "outputs": [
    {
     "name": "stdout",
     "output_type": "stream",
     "text": [
      "Time taken: 0.58 seconds\n",
      "173\n",
      "RMSE for Nearest Neighbor is: 0.2600726472787685\n"
     ]
    }
   ],
   "source": [
    "X = df_filter_four  # independant features\n",
    "y = bdata.target # dependant variable\n",
    "start_time = time.time()\n",
    "bdata_train, bdata_test, y_train, y_test = train_test_split(X, y, test_size=0.34, random_state=mask)\n",
    "bdata_train = normalize(bdata_train)\n",
    "yo_test = normalize(pd.DataFrame(y_test))\n",
    "yo_train = normalize(pd.DataFrame(y_train))\n",
    "#print(bdata_train)\n",
    "bdata_test = normalize(bdata_test)\n",
    "yno_pred = nneighbor(np.array(bdata_train),np.array(yo_train),np.array(bdata_test) , 1, 5) #changing value of L\n",
    "print (\"Time taken: \" + str(round(time.time() - start_time,2)) + \" seconds\")\n",
    "\n",
    "print(len(yn_pred))\n",
    "RMSE = compute_rmse(np.array(yno_pred), np.array(yo_test))\n",
    "print(\"RMSE for Nearest Neighbor is: \" + str(RMSE))"
   ]
  },
  {
   "cell_type": "markdown",
   "metadata": {},
   "source": [
    "When we change L, RMSE further decreases, let us take other combination of features"
   ]
  },
  {
   "cell_type": "code",
   "execution_count": 27,
   "metadata": {},
   "outputs": [
    {
     "data": {
      "text/html": [
       "<div>\n",
       "<style scoped>\n",
       "    .dataframe tbody tr th:only-of-type {\n",
       "        vertical-align: middle;\n",
       "    }\n",
       "\n",
       "    .dataframe tbody tr th {\n",
       "        vertical-align: top;\n",
       "    }\n",
       "\n",
       "    .dataframe thead th {\n",
       "        text-align: right;\n",
       "    }\n",
       "</style>\n",
       "<table border=\"1\" class=\"dataframe\">\n",
       "  <thead>\n",
       "    <tr style=\"text-align: right;\">\n",
       "      <th></th>\n",
       "      <th>RAD</th>\n",
       "      <th>TAX</th>\n",
       "      <th>0</th>\n",
       "    </tr>\n",
       "  </thead>\n",
       "  <tbody>\n",
       "    <tr>\n",
       "      <th>0</th>\n",
       "      <td>1.0</td>\n",
       "      <td>296.0</td>\n",
       "      <td>24.0</td>\n",
       "    </tr>\n",
       "    <tr>\n",
       "      <th>1</th>\n",
       "      <td>2.0</td>\n",
       "      <td>242.0</td>\n",
       "      <td>21.6</td>\n",
       "    </tr>\n",
       "    <tr>\n",
       "      <th>2</th>\n",
       "      <td>2.0</td>\n",
       "      <td>242.0</td>\n",
       "      <td>34.7</td>\n",
       "    </tr>\n",
       "    <tr>\n",
       "      <th>3</th>\n",
       "      <td>3.0</td>\n",
       "      <td>222.0</td>\n",
       "      <td>33.4</td>\n",
       "    </tr>\n",
       "    <tr>\n",
       "      <th>4</th>\n",
       "      <td>3.0</td>\n",
       "      <td>222.0</td>\n",
       "      <td>36.2</td>\n",
       "    </tr>\n",
       "  </tbody>\n",
       "</table>\n",
       "</div>"
      ],
      "text/plain": [
       "   RAD    TAX     0\n",
       "0  1.0  296.0  24.0\n",
       "1  2.0  242.0  21.6\n",
       "2  2.0  242.0  34.7\n",
       "3  3.0  222.0  33.4\n",
       "4  3.0  222.0  36.2"
      ]
     },
     "execution_count": 27,
     "metadata": {},
     "output_type": "execute_result"
    }
   ],
   "source": [
    "df_filter_op = df_data.filter(['RAD', 'TAX'])\n",
    "df_target = pd.DataFrame(bdata.target)\n",
    "df_filter_op = pd.concat([df_filter_op,df_target],axis=1)\n",
    "df_filter_op.head()"
   ]
  },
  {
   "cell_type": "code",
   "execution_count": 28,
   "metadata": {},
   "outputs": [
    {
     "name": "stdout",
     "output_type": "stream",
     "text": [
      "Time taken: 0.58 seconds\n",
      "173\n",
      "RMSE for Nearest Neighbor is: 0.10485452555012352\n"
     ]
    }
   ],
   "source": [
    "X = df_filter_op  # independant features\n",
    "y = bdata.target # dependant variable\n",
    "start_time = time.time()\n",
    "bdata_train, bdata_test, y_train, y_test = train_test_split(X, y, test_size=0.34, random_state=mask)\n",
    "bdata_train = normalize(bdata_train)\n",
    "yo_test = normalize(pd.DataFrame(y_test))\n",
    "yo_train = normalize(pd.DataFrame(y_train))\n",
    "#print(bdata_train)\n",
    "bdata_test = normalize(bdata_test)\n",
    "yno_pred = nneighbor(np.array(bdata_train),np.array(yo_train),np.array(bdata_test) , 1, 5) #changing value of L\n",
    "print (\"Time taken: \" + str(round(time.time() - start_time,2)) + \" seconds\")\n",
    "\n",
    "print(len(yn_pred))\n",
    "RMSE = compute_rmse(np.array(yno_pred), np.array(yo_test))\n",
    "print(\"RMSE for Nearest Neighbor is: \" + str(RMSE))"
   ]
  },
  {
   "cell_type": "markdown",
   "metadata": {},
   "source": [
    "Here, we see that RMSE is 0.08 which is amazing. Least as of now. These are for Radius and Tax parameters.\n",
    "Logically speaking Tax applicable on the house and index of accessibility to radial highways correctly determines\n",
    "the median price of the house. Since these factors logically influence house prices, they are good features to use.\n",
    "\n",
    "Also, as for time concerned, it is between 0.63 to 0.58 seconds so not much of a difference."
   ]
  },
  {
   "cell_type": "markdown",
   "metadata": {},
   "source": [
    "### 3.5 Cross-Validation\n",
    "\n",
    "The more you tinkered with your features and distance function, the higher the risk that you overfit your training data.  To prevent this sort of overfitting, you need to use cross-validation (see K-fold [cross-validation](http://en.wikipedia.org/wiki/Cross-validation_(statistics)).  Here you must implement a simple k-fold cross-validation algorithm yourself.  The function you write here will be used several more times in this problem set, so do your best to write efficient code! (Note that the sklearn package has a built-in [K-fold](http://scikit-learn.org/stable/modules/cross_validation.html#cross-validation) iterator -- you should *not* be invoking that or any related algorithms in this section of the problem set.)\n",
    "\n",
    "Use 10-fold cross-validation and report the average RMSE for Nearest Neighbors using Euclidean distance with CRIM and RM input features, as well as the total running time for the full run of 10 folds.  In other words, randomly divide your dataset into 10 equally-sized samples, and for each of 10 iterations (the \"folds\"), use 9 samples as \"training data\" (even though there is no training in k-NN!), and the remaining 1 sample for testing.  Compute the RMSE of that particular test set, then move on to the next iteration.  Report the average RMSE across the 10 iterations."
   ]
  },
  {
   "cell_type": "code",
   "execution_count": 29,
   "metadata": {},
   "outputs": [],
   "source": [
    "\"\"\"\n",
    "Function\n",
    "--------\n",
    "cross_validation_split\n",
    "\n",
    "Given the dataset and number of folds, split the dataset into those many number of folds\n",
    "\n",
    "Parameters\n",
    "----------\n",
    "dataset: dataframe\n",
    "\n",
    "folds: integer\n",
    "\n",
    "Returns\n",
    "-------\n",
    "dataset_split : list\n",
    "    number of indexes in list = number of folds\n",
    "\n",
    "Example\n",
    "-------\n",
    ">>> [0.14932  5.741 22.4 ] [5.14932  5.741 22.4 ] [9.14932  5.741 22.4 ] [3.14932  5.741 22.4 ] [2.14932  5.741 22.4 ]\n",
    "[9.14932  5.741 22.4 ] [1.14932  5.741 22.4 ] [10.14932  5.741 22.4 ] [8.14932  5.741 22.4 ] [6.14932  5.741 22.4 ]\n",
    ", 5\n",
    ".\n",
    ".\n",
    ".\n",
    "\n",
    "list[0] --> [0.14932  5.741 22.4 ]\n",
    "            [9.14932  5.741 22.4 ]\n",
    "list[1] --> [6.14932  5.741 22.4 ]\n",
    "            [8.14932  5.741 22.4 ]\n",
    "list[2] --> [1.14932  5.741 22.4 ]\n",
    "            [2.14932  5.741 22.4 ]\n",
    "list[3] --> [5.14932  5.741 22.4 ]\n",
    "            [9.14932  5.741 22.4 ]\n",
    "list[4] --> [10.14932  5.741 22.4 ]\n",
    "            [3.14932  5.741 22.4 ]\n",
    "\"\"\"\n",
    "from random import randrange\n",
    "# enter your code here\n",
    "def cross_validation_split(dataset, folds):\n",
    "        dataset_split = []\n",
    "        df_copy = dataset\n",
    "        fold_size = int(df_copy.shape[0] / folds)\n",
    "        \n",
    "        # for loop to save each fold\n",
    "        for i in range(folds):\n",
    "            fold = []\n",
    "            # while loop to add elements to the folds\n",
    "            while len(fold) < fold_size:\n",
    "                # select a random element\n",
    "                r = randrange(df_copy.shape[0])\n",
    "                # determine the index of this element \n",
    "                index = df_copy.index[r]\n",
    "                # save the randomly selected line \n",
    "                fold.append(df_copy.loc[index].values.tolist())\n",
    "                # delete the randomly selected line from\n",
    "                # dataframe not to select again\n",
    "                df_copy = df_copy.drop(index)\n",
    "            # save the fold     \n",
    "            dataset_split.append(np.asarray(fold))\n",
    "            \n",
    "        return dataset_split \n",
    "\n",
    "#split[0]"
   ]
  },
  {
   "cell_type": "code",
   "execution_count": 30,
   "metadata": {},
   "outputs": [
    {
     "data": {
      "text/html": [
       "<div>\n",
       "<style scoped>\n",
       "    .dataframe tbody tr th:only-of-type {\n",
       "        vertical-align: middle;\n",
       "    }\n",
       "\n",
       "    .dataframe tbody tr th {\n",
       "        vertical-align: top;\n",
       "    }\n",
       "\n",
       "    .dataframe thead th {\n",
       "        text-align: right;\n",
       "    }\n",
       "</style>\n",
       "<table border=\"1\" class=\"dataframe\">\n",
       "  <thead>\n",
       "    <tr style=\"text-align: right;\">\n",
       "      <th></th>\n",
       "      <th>CRIM</th>\n",
       "      <th>RM</th>\n",
       "      <th>0</th>\n",
       "    </tr>\n",
       "  </thead>\n",
       "  <tbody>\n",
       "    <tr>\n",
       "      <th>0</th>\n",
       "      <td>-0.419367</td>\n",
       "      <td>0.413263</td>\n",
       "      <td>0.159528</td>\n",
       "    </tr>\n",
       "    <tr>\n",
       "      <th>1</th>\n",
       "      <td>-0.416927</td>\n",
       "      <td>0.194082</td>\n",
       "      <td>-0.101424</td>\n",
       "    </tr>\n",
       "    <tr>\n",
       "      <th>2</th>\n",
       "      <td>-0.416929</td>\n",
       "      <td>1.281446</td>\n",
       "      <td>1.322937</td>\n",
       "    </tr>\n",
       "    <tr>\n",
       "      <th>3</th>\n",
       "      <td>-0.416338</td>\n",
       "      <td>1.015298</td>\n",
       "      <td>1.181589</td>\n",
       "    </tr>\n",
       "    <tr>\n",
       "      <th>4</th>\n",
       "      <td>-0.412074</td>\n",
       "      <td>1.227362</td>\n",
       "      <td>1.486032</td>\n",
       "    </tr>\n",
       "  </tbody>\n",
       "</table>\n",
       "</div>"
      ],
      "text/plain": [
       "       CRIM        RM         0\n",
       "0 -0.419367  0.413263  0.159528\n",
       "1 -0.416927  0.194082 -0.101424\n",
       "2 -0.416929  1.281446  1.322937\n",
       "3 -0.416338  1.015298  1.181589\n",
       "4 -0.412074  1.227362  1.486032"
      ]
     },
     "execution_count": 30,
     "metadata": {},
     "output_type": "execute_result"
    }
   ],
   "source": [
    "#filtering data here to just capture required features\n",
    "df_data_filter = df_data.filter(['CRIM', 'RM'])\n",
    "df_target = pd.DataFrame(bdata.target)\n",
    "#df_data_filter = df_data_filter.insert(2,'MEDV', df_target, True)\n",
    "#df_data_filter = df_data_filter.append(df_target)\n",
    "df_data_filter = pd.concat([df_data_filter,df_target],axis=1)\n",
    "\n",
    "df_data_filter = normalize(df_data_filter)\n",
    "df_data_filter.head()"
   ]
  },
  {
   "cell_type": "code",
   "execution_count": 31,
   "metadata": {},
   "outputs": [],
   "source": [
    "#split = cross_validation_split(df_data_filter, 10)"
   ]
  },
  {
   "cell_type": "code",
   "execution_count": 32,
   "metadata": {},
   "outputs": [
    {
     "name": "stdout",
     "output_type": "stream",
     "text": [
      "Time taken: 2.13 seconds\n",
      "Each fold RMSE value is : [1.5489461574454992, 1.3960863080660777, 1.2688998251728043, 1.2697076023480796, 1.2425821267434496, 1.4619474670427832, 1.4850770072556219, 1.5045962648909208, 1.3546486776607933, 1.5499062303140478]\n",
      "Mean of 10 folds is :1.4082397666940079\n"
     ]
    }
   ],
   "source": [
    "\"\"\"\n",
    "Function\n",
    "--------\n",
    "kfoldCV\n",
    "\n",
    "Given the dataset, number of folds, value of k for k-NN and number of features in the dataset:\n",
    "1) Predict the value of target variable for each fold (if 10 folds, 1 used as test and other 9 are used as train\n",
    "in 1st iteration and this continues for 10 iterations where the test data changes in each iteration)\n",
    "2) Return RMSE array\n",
    "\n",
    "Parameters\n",
    "----------\n",
    "dataset: dataframe\n",
    "\n",
    "f: integer\n",
    "\n",
    "K: K value (=1 for NN) and any other value for K-NN\n",
    "\n",
    "no_of_features = this variable solely handles the nymber of features to be used to predict a value from training set\n",
    "\n",
    "Returns\n",
    "-------\n",
    "result : list of size folds\n",
    "    Numeric value\n",
    "\n",
    "Example\n",
    "-------\n",
    "\n",
    "\"\"\"\n",
    "import statistics\n",
    "start_time = time.time()\n",
    "def kfoldCV(dataset, f, k, no_of_features):\n",
    "    data=cross_validation_split(dataset,f)\n",
    "    result=[]\n",
    "    # determine training and test sets \n",
    "    for i in range(f):\n",
    "        r = list(range(f))\n",
    "        r.pop(i)\n",
    "        #test = data[i]\n",
    "        for j in r :\n",
    "            if j == r[0]:\n",
    "                cv = data[j]\n",
    "            else:    \n",
    "                cv=np.concatenate((cv,data[j]), axis=0)\n",
    "        #train = cv\n",
    "        #print(cv[:,0:3])\n",
    "        #print(data[i][:,0:no_of_features])\n",
    "        #print(data[i][:,2:3])\n",
    "        #print(\"break\")\n",
    "        #print(cv[:,no_of_features])\n",
    "        test = nneighbor(cv[:,0:no_of_features],cv[:,no_of_features],data[i][:,0:no_of_features],k,2)\n",
    "        #print(test)   \n",
    "        RMSE = compute_rmse(test, np.array(data[i][:,2:3]))\n",
    "        #print(\"fold\" + str(i + 1) + \" RMSE: \" + str(RMSE))\n",
    "        result.append(RMSE)\n",
    "    return result\n",
    "\n",
    "result_CV = kfoldCV(df_data_filter, 10, 1, 2)\n",
    "print (\"Time taken: \" + str(round(time.time() - start_time,2)) + \" seconds\")\n",
    "\n",
    "print(\"Each fold RMSE value is : \" + str(result_CV))\n",
    "print(\"Mean of 10 folds is :\" + str(statistics.mean(result_CV)))"
   ]
  },
  {
   "cell_type": "markdown",
   "metadata": {},
   "source": [
    "I have checked multiple times and I am sure the splits are correct plus it is taking correct test and train data,\n",
    "Both for features and for target, I am going to go ahead with this RMSE value ranging between 10 to 15 for 10 folds (unnormalized) and 1.1 to 1.5 (normalized) for Nearest neighbor K = 1 (not K-NN)"
   ]
  },
  {
   "cell_type": "markdown",
   "metadata": {},
   "source": [
    "###3.6 K-Nearest Neighbors Algorithm\n",
    "\n",
    "Implement the K-Nearest Neighbors algorithm.  Using 10-fold cross validation, report the RMSE for K=3 and the running time of the algorithm."
   ]
  },
  {
   "cell_type": "code",
   "execution_count": 33,
   "metadata": {},
   "outputs": [
    {
     "name": "stdout",
     "output_type": "stream",
     "text": [
      "Time taken: 4.36 seconds\n",
      "Each fold RMSE value is : [1.4820045824418782, 1.5822043894812665, 1.3348367399824044, 1.4959759097656964, 1.1180607805553306, 1.3594918120037724, 1.4995436569045995, 1.286808613450899, 1.5112081494083707, 1.1751470826262262]\n",
      "Mean of 10 folds is :1.3845281716620443\n"
     ]
    }
   ],
   "source": [
    "\"\"\"\n",
    "# write your function specification here!\n",
    "\"\"\"\n",
    "#I do no create a function here, instead I pass K = 3 directly to my nneighbor function because it can handle more\n",
    "#than 1 K's\n",
    "#def knn(..., L, K):\n",
    "    # enter your code here\n",
    "    #return rmse\n",
    "\n",
    "# enter your additional code here\n",
    "result_CV = kfoldCV(df_data_filter, 10, 3, 2)\n",
    "print (\"Time taken: \" + str(round(time.time() - start_time,2)) + \" seconds\")\n",
    "\n",
    "print(\"Each fold RMSE value is : \" + str(result_CV))\n",
    "print(\"Mean of 10 folds is :\" + str(statistics.mean(result_CV)))"
   ]
  },
  {
   "cell_type": "markdown",
   "metadata": {},
   "source": [
    "Here I take K = 3, that means there are 3 points with which the test data points are calculated and then they vote.\n",
    "Voting determines which is the closest distance and gives the prediction value.\n",
    "after finding the predicted value I calculate RMSE with actual Data point and return back the RMSE list of size 10.\n",
    "Then, I take a mean of those list values and calculate Average RMSE for 10 fold cross validation for K-NN where K =3."
   ]
  },
  {
   "cell_type": "markdown",
   "metadata": {},
   "source": [
    "###3.7 Using cross validation to find K\n",
    "\n",
    "What is the best choice of K?  Compute the RMSE for values of K between 1 and 25 using 10-fold cross-validation.  Use the following features in your model, and don't forget to normalize: CRIM, ZN, RM, AGE, DIS, TAX.  Create a graph that shows how RMSE changes as K increases from 1 to 25.  Label your axes, and summarize what you see.  What do you think is a reasonable choice of K for this model?"
   ]
  },
  {
   "cell_type": "code",
   "execution_count": 34,
   "metadata": {},
   "outputs": [
    {
     "data": {
      "text/html": [
       "<div>\n",
       "<style scoped>\n",
       "    .dataframe tbody tr th:only-of-type {\n",
       "        vertical-align: middle;\n",
       "    }\n",
       "\n",
       "    .dataframe tbody tr th {\n",
       "        vertical-align: top;\n",
       "    }\n",
       "\n",
       "    .dataframe thead th {\n",
       "        text-align: right;\n",
       "    }\n",
       "</style>\n",
       "<table border=\"1\" class=\"dataframe\">\n",
       "  <thead>\n",
       "    <tr style=\"text-align: right;\">\n",
       "      <th></th>\n",
       "      <th>CRIM</th>\n",
       "      <th>ZN</th>\n",
       "      <th>RM</th>\n",
       "      <th>AGE</th>\n",
       "      <th>DIS</th>\n",
       "      <th>TAX</th>\n",
       "      <th>0</th>\n",
       "    </tr>\n",
       "  </thead>\n",
       "  <tbody>\n",
       "    <tr>\n",
       "      <th>0</th>\n",
       "      <td>-0.419367</td>\n",
       "      <td>0.284548</td>\n",
       "      <td>0.413263</td>\n",
       "      <td>-0.119895</td>\n",
       "      <td>0.140075</td>\n",
       "      <td>-0.665949</td>\n",
       "      <td>0.159528</td>\n",
       "    </tr>\n",
       "    <tr>\n",
       "      <th>1</th>\n",
       "      <td>-0.416927</td>\n",
       "      <td>-0.487240</td>\n",
       "      <td>0.194082</td>\n",
       "      <td>0.366803</td>\n",
       "      <td>0.556609</td>\n",
       "      <td>-0.986353</td>\n",
       "      <td>-0.101424</td>\n",
       "    </tr>\n",
       "    <tr>\n",
       "      <th>2</th>\n",
       "      <td>-0.416929</td>\n",
       "      <td>-0.487240</td>\n",
       "      <td>1.281446</td>\n",
       "      <td>-0.265549</td>\n",
       "      <td>0.556609</td>\n",
       "      <td>-0.986353</td>\n",
       "      <td>1.322937</td>\n",
       "    </tr>\n",
       "    <tr>\n",
       "      <th>3</th>\n",
       "      <td>-0.416338</td>\n",
       "      <td>-0.487240</td>\n",
       "      <td>1.015298</td>\n",
       "      <td>-0.809088</td>\n",
       "      <td>1.076671</td>\n",
       "      <td>-1.105022</td>\n",
       "      <td>1.181589</td>\n",
       "    </tr>\n",
       "    <tr>\n",
       "      <th>4</th>\n",
       "      <td>-0.412074</td>\n",
       "      <td>-0.487240</td>\n",
       "      <td>1.227362</td>\n",
       "      <td>-0.510674</td>\n",
       "      <td>1.076671</td>\n",
       "      <td>-1.105022</td>\n",
       "      <td>1.486032</td>\n",
       "    </tr>\n",
       "  </tbody>\n",
       "</table>\n",
       "</div>"
      ],
      "text/plain": [
       "       CRIM        ZN        RM       AGE       DIS       TAX         0\n",
       "0 -0.419367  0.284548  0.413263 -0.119895  0.140075 -0.665949  0.159528\n",
       "1 -0.416927 -0.487240  0.194082  0.366803  0.556609 -0.986353 -0.101424\n",
       "2 -0.416929 -0.487240  1.281446 -0.265549  0.556609 -0.986353  1.322937\n",
       "3 -0.416338 -0.487240  1.015298 -0.809088  1.076671 -1.105022  1.181589\n",
       "4 -0.412074 -0.487240  1.227362 -0.510674  1.076671 -1.105022  1.486032"
      ]
     },
     "execution_count": 34,
     "metadata": {},
     "output_type": "execute_result"
    }
   ],
   "source": [
    "# enter your code here\n",
    "#filtering features\n",
    "df_filter = df_data.filter(['CRIM','ZN','RM', 'AGE', 'DIS', 'TAX'])\n",
    "df_target = pd.DataFrame(bdata.target)\n",
    "df_filter = pd.concat([df_filter,df_target],axis=1)\n",
    "df_filter.head()\n",
    "\n",
    "#normalizing features\n",
    "df_filter = normalize(df_filter)\n",
    "df_filter.head()"
   ]
  },
  {
   "cell_type": "code",
   "execution_count": 35,
   "metadata": {},
   "outputs": [
    {
     "name": "stdout",
     "output_type": "stream",
     "text": [
      "[1.3647043302564559, 1.3663284378349811, 1.3683617875341318, 1.3571448438418945, 1.393943541977388, 1.3802530333190988, 1.4023081808709537, 1.3857965150180942, 1.4276380733668164, 1.4062525709615687, 1.3847805404390499, 1.3959420953812847, 1.4101026828432477, 1.3693646850370953, 1.4038287685800228, 1.401693113546024, 1.4509430754876085, 1.417880673447513, 1.4390513819943416, 1.4671055431445563, 1.4469821481885854, 1.4422107418968533, 1.437917423686067, 1.389994442361181, 1.4164254259804587]\n",
      "Time taken: 58.79 seconds\n"
     ]
    }
   ],
   "source": [
    "start_time = time.time()\n",
    "result_for_K = []\n",
    "for i in range(1, 26, 1):\n",
    "    result_CV_N = kfoldCV(df_filter, 10, i, 6)\n",
    "    result_for_K.append(statistics.mean(result_CV_N))\n",
    "\n",
    "print(result_for_K)\n",
    "print (\"Time taken: \" + str(round(time.time() - start_time,2)) + \" seconds\")   "
   ]
  },
  {
   "cell_type": "code",
   "execution_count": 36,
   "metadata": {},
   "outputs": [
    {
     "data": {
      "text/plain": [
       "Text(0.5, 1.0, 'Relationship between the RMSE and K for K-NN CV')"
      ]
     },
     "execution_count": 36,
     "metadata": {},
     "output_type": "execute_result"
    },
    {
     "data": {
      "image/png": "[encoded data removed]",
      "text/plain": [
       "<Figure size 432x288 with 1 Axes>"
      ]
     },
     "metadata": {
      "needs_background": "light"
     },
     "output_type": "display_data"
    }
   ],
   "source": [
    "plt.plot(range(1,26),result_for_K)\n",
    "plt.ylabel('RMSE as K varies')\n",
    "plt.xlabel('K value for 10 fold Cross Validation')\n",
    "plt.title('Relationship between the RMSE and K for K-NN CV')"
   ]
  },
  {
   "cell_type": "markdown",
   "metadata": {},
   "source": [
    "Based on above graph we see that RMSE is least when K = 4 so that is the best for this model for nearest neighbor 10 fold cross validation. I determine K = 4 is the best because it has the least RMSE."
   ]
  }
 ],
 "metadata": {
  "kernelspec": {
   "display_name": "Python 3 (ipykernel)",
   "language": "python",
   "name": "python3"
  },
  "language_info": {
   "codemirror_mode": {
    "name": "ipython",
    "version": 3
   },
   "file_extension": ".py",
   "mimetype": "text/x-python",
   "name": "python",
   "nbconvert_exporter": "python",
   "pygments_lexer": "ipython3",
   "version": "3.9.7"
  }
 },
 "nbformat": 4,
 "nbformat_minor": 4
}
